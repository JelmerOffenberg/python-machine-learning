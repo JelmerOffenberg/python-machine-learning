{
 "cells": [
  {
   "cell_type": "markdown",
   "id": "6738c155",
   "metadata": {},
   "source": [
    "# California Housing — Machine Learning Exercise\n",
    "\n",
    "In this exercise you will work through a basic machine learning workflow using the California Housing dataset.\n",
    "\n",
    "This dataset is relatively easy an small to work with. This will help us to get a good understanding of the tools that we work with. The goal is to predict median house values in California. Along the way, you will practice splitting data, fitting models, evaluating performance, and comparing approaches.\n",
    "\n",
    "This notebook gives you the structure. You will fill in the details yourself. Explore and discovery various approaches each step, work together and discuss. Make it interactive. Try to minimize copy-pasting of sections so that you really understand what's going on."
   ]
  },
  {
   "cell_type": "markdown",
   "id": "aee526d9",
   "metadata": {},
   "source": [
    "## 1. Setup\n",
    "\n",
    "Import the libraries you need for data handling, modeling, and evaluation."
   ]
  },
  {
   "cell_type": "code",
   "execution_count": null,
   "id": "c9b923da",
   "metadata": {},
   "outputs": [],
   "source": [
    "from sklearn.datasets import fetch_california_housing\n",
    "\n",
    "# Load dataset\n",
    "data = fetch_california_housing(as_frame=True)\n",
    "df = data.frame\n",
    "\n",
    "df.head()"
   ]
  },
  {
   "metadata": {},
   "cell_type": "code",
   "outputs": [],
   "execution_count": null,
   "source": "",
   "id": "6908456ef1304207"
  },
  {
   "cell_type": "markdown",
   "id": "a197743e",
   "metadata": {},
   "source": [
    "## 2. Explore the data\n",
    "\n",
    "Take a look at the dataset. What features (X) are available? What is the target (y)?\n",
    "\n",
    "- Inspect the shape of the data\n",
    "- Check basic statistics and distributions\n",
    "- Look for correlations and potential relationships"
   ]
  },
  {
   "metadata": {},
   "cell_type": "code",
   "outputs": [],
   "execution_count": null,
   "source": "",
   "id": "c1c78a457bb3f8ca"
  },
  {
   "cell_type": "markdown",
   "id": "4f7ea292",
   "metadata": {},
   "source": [
    "## 3. Split the data\n",
    "\n",
    "We need separate data for training and testing. Use a train/test split so you can evaluate the model on data it has never seen."
   ]
  },
  {
   "metadata": {},
   "cell_type": "code",
   "outputs": [],
   "execution_count": null,
   "source": "",
   "id": "f8fc2ab8be7b4300"
  },
  {
   "cell_type": "markdown",
   "id": "6f9247a6",
   "metadata": {},
   "source": [
    "Tasks:\n",
    "- Define `X` and `y`\n",
    "- Split into `X_train`, `X_test`, `y_train`, `y_test`\n",
    "- Keep the test set aside until the very end"
   ]
  },
  {
   "metadata": {},
   "cell_type": "code",
   "outputs": [],
   "execution_count": null,
   "source": "",
   "id": "a107e40750d9d438"
  },
  {
   "cell_type": "markdown",
   "id": "f2783579",
   "metadata": {},
   "source": [
    "## 4. Naive baseline\n",
    "\n",
    "Before fitting any real model, start with the simplest possible predictor: always predict the mean of the training target.\n",
    "\n",
    "This gives you a baseline MAE and RMSE. Any useful model should do better than this."
   ]
  },
  {
   "metadata": {},
   "cell_type": "code",
   "outputs": [],
   "execution_count": null,
   "source": "",
   "id": "c516761f34f59e5a"
  },
  {
   "cell_type": "markdown",
   "id": "da0a1048",
   "metadata": {},
   "source": [
    "## 5. Linear regression\n",
    "\n",
    "Fit a linear regression model to the training data.\n",
    "\n",
    "- Train the model\n",
    "- Predict on the test set\n",
    "- Evaluate using MAE and RMSE\n",
    "\n",
    "Compare these results to the naive baseline."
   ]
  },
  {
   "metadata": {},
   "cell_type": "code",
   "outputs": [],
   "execution_count": null,
   "source": "",
   "id": "8a0445af86e4a007"
  },
  {
   "cell_type": "markdown",
   "id": "c38e5aef",
   "metadata": {},
   "source": [
    "## 6. Decision tree\n",
    "\n",
    "Fit a decision tree model.\n",
    "\n",
    "- Start with default parameters\n",
    "- Then try tuning at least one parameter (for example `max_depth`)\n",
    "- Compare results to linear regression and the baseline"
   ]
  },
  {
   "metadata": {},
   "cell_type": "code",
   "outputs": [],
   "execution_count": null,
   "source": "",
   "id": "16a1ebda25699d9e"
  },
  {
   "cell_type": "markdown",
   "id": "3992f291",
   "metadata": {},
   "source": [
    "## 7. Random forest and boosting\n",
    "\n",
    "Train ensemble models.\n",
    "\n",
    "- RandomForestRegressor\n",
    "- GradientBoostingRegressor or XGBoost\n",
    "\n",
    "Evaluate them in the same way and compare results."
   ]
  },
  {
   "metadata": {},
   "cell_type": "code",
   "outputs": [],
   "execution_count": null,
   "source": "",
   "id": "b0b51f0081bdf2c5"
  },
  {
   "cell_type": "markdown",
   "id": "b1e43f0f",
   "metadata": {},
   "source": [
    "## 8. Evaluate and compare\n",
    "\n",
    "Now that you have several models:\n",
    "\n",
    "- Collect MAE and RMSE for each model\n",
    "- Make a simple comparison table\n",
    "- Decide which model performs best and why"
   ]
  },
  {
   "metadata": {},
   "cell_type": "code",
   "outputs": [],
   "execution_count": null,
   "source": "",
   "id": "f4fa19f63505c42b"
  },
  {
   "cell_type": "markdown",
   "id": "e7d6e853",
   "metadata": {},
   "source": [
    "## 9. Model explanation\n",
    "- Can you extract and plot the feature importances of one of the tree-based models?\n",
    "- Visualize predicted vs actual on a scatter plot"
   ]
  },
  {
   "metadata": {},
   "cell_type": "code",
   "outputs": [],
   "execution_count": null,
   "source": "",
   "id": "b971634377c9765e"
  },
  {
   "metadata": {},
   "cell_type": "markdown",
   "source": [
    "## 10. Reflection\n",
    "\n",
    "Summarize your findings:\n",
    "\n",
    "- Which model was best?\n",
    "- Did tuning help?\n",
    "- What did you learn about the trade-offs between models?\n",
    "- Which model was easiest to use?"
   ],
   "id": "6ad54e3924762e01"
  },
  {
   "metadata": {},
   "cell_type": "code",
   "outputs": [],
   "execution_count": null,
   "source": "",
   "id": "a5e5f12304648208"
  },
  {
   "metadata": {},
   "cell_type": "markdown",
   "source": [
    "## 11. Extra\n",
    "- Use cross-validation instead of a single train/test split\n",
    "- Experiment with Ridge or Lasso regression. Investigate how regularization impacts coefficients and performance. Can you tune the parameters to ensure they are the best fit?"
   ],
   "id": "83a08b436c35f8dd"
  },
  {
   "metadata": {},
   "cell_type": "code",
   "outputs": [],
   "execution_count": null,
   "source": "",
   "id": "b2bcd73e66e62c1c"
  }
 ],
 "metadata": {},
 "nbformat": 4,
 "nbformat_minor": 5
}
