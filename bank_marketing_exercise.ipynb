{
 "cells": [
  {
   "cell_type": "markdown",
   "id": "3bfcc9df",
   "metadata": {},
   "source": [
    "# Exercise: Classification with the Bank Marketing Dataset"
   ]
  },
  {
   "cell_type": "markdown",
   "id": "8585b4e6",
   "metadata": {},
   "source": [
    "\n",
    "In this exercise you will work on a **classification** task using the [Bank Marketing dataset](https://archive.ics.uci.edu/ml/datasets/bank+marketing).  \n",
    "Your goal is to predict whether a client will **subscribe to a term deposit** (`y` = yes/no).  \n",
    "\n",
    "You will follow the full machine learning workflow: from baseline to more advanced models.  \n",
    "This exercise should take about 1–2 hours.  \n",
    "\n",
    "---\n"
   ]
  },
  {
   "cell_type": "markdown",
   "id": "0287e3cd",
   "metadata": {},
   "source": [
    "## Step 1: Load the data\n",
    "\n",
    "We’ll use the Bank Marketing dataset from `sklearn.datasets`."
   ]
  },
  {
   "cell_type": "code",
   "id": "d4d47708",
   "metadata": {
    "ExecuteTime": {
     "end_time": "2025-09-09T14:17:59.101158Z",
     "start_time": "2025-09-09T14:17:58.553374Z"
    }
   },
   "source": [
    "\n",
    "from sklearn.datasets import fetch_openml\n",
    "\n",
    "# Load the dataset\n",
    "bank = fetch_openml(name=\"bank-marketing\", version=1, as_frame=True)\n",
    "df = bank.frame\n",
    "\n",
    "# Inspect the data\n",
    "df.head()\n"
   ],
   "outputs": [
    {
     "data": {
      "text/plain": [
       "   V1            V2       V3         V4  V5    V6   V7   V8       V9  V10  \\\n",
       "0  58    management  married   tertiary  no  2143  yes   no  unknown    5   \n",
       "1  44    technician   single  secondary  no    29  yes   no  unknown    5   \n",
       "2  33  entrepreneur  married  secondary  no     2  yes  yes  unknown    5   \n",
       "3  47   blue-collar  married    unknown  no  1506  yes   no  unknown    5   \n",
       "4  33       unknown   single    unknown  no     1   no   no  unknown    5   \n",
       "\n",
       "   V11  V12  V13  V14  V15      V16 Class  \n",
       "0  may  261    1   -1    0  unknown     1  \n",
       "1  may  151    1   -1    0  unknown     1  \n",
       "2  may   76    1   -1    0  unknown     1  \n",
       "3  may   92    1   -1    0  unknown     1  \n",
       "4  may  198    1   -1    0  unknown     1  "
      ],
      "text/html": [
       "<div>\n",
       "<style scoped>\n",
       "    .dataframe tbody tr th:only-of-type {\n",
       "        vertical-align: middle;\n",
       "    }\n",
       "\n",
       "    .dataframe tbody tr th {\n",
       "        vertical-align: top;\n",
       "    }\n",
       "\n",
       "    .dataframe thead th {\n",
       "        text-align: right;\n",
       "    }\n",
       "</style>\n",
       "<table border=\"1\" class=\"dataframe\">\n",
       "  <thead>\n",
       "    <tr style=\"text-align: right;\">\n",
       "      <th></th>\n",
       "      <th>V1</th>\n",
       "      <th>V2</th>\n",
       "      <th>V3</th>\n",
       "      <th>V4</th>\n",
       "      <th>V5</th>\n",
       "      <th>V6</th>\n",
       "      <th>V7</th>\n",
       "      <th>V8</th>\n",
       "      <th>V9</th>\n",
       "      <th>V10</th>\n",
       "      <th>V11</th>\n",
       "      <th>V12</th>\n",
       "      <th>V13</th>\n",
       "      <th>V14</th>\n",
       "      <th>V15</th>\n",
       "      <th>V16</th>\n",
       "      <th>Class</th>\n",
       "    </tr>\n",
       "  </thead>\n",
       "  <tbody>\n",
       "    <tr>\n",
       "      <th>0</th>\n",
       "      <td>58</td>\n",
       "      <td>management</td>\n",
       "      <td>married</td>\n",
       "      <td>tertiary</td>\n",
       "      <td>no</td>\n",
       "      <td>2143</td>\n",
       "      <td>yes</td>\n",
       "      <td>no</td>\n",
       "      <td>unknown</td>\n",
       "      <td>5</td>\n",
       "      <td>may</td>\n",
       "      <td>261</td>\n",
       "      <td>1</td>\n",
       "      <td>-1</td>\n",
       "      <td>0</td>\n",
       "      <td>unknown</td>\n",
       "      <td>1</td>\n",
       "    </tr>\n",
       "    <tr>\n",
       "      <th>1</th>\n",
       "      <td>44</td>\n",
       "      <td>technician</td>\n",
       "      <td>single</td>\n",
       "      <td>secondary</td>\n",
       "      <td>no</td>\n",
       "      <td>29</td>\n",
       "      <td>yes</td>\n",
       "      <td>no</td>\n",
       "      <td>unknown</td>\n",
       "      <td>5</td>\n",
       "      <td>may</td>\n",
       "      <td>151</td>\n",
       "      <td>1</td>\n",
       "      <td>-1</td>\n",
       "      <td>0</td>\n",
       "      <td>unknown</td>\n",
       "      <td>1</td>\n",
       "    </tr>\n",
       "    <tr>\n",
       "      <th>2</th>\n",
       "      <td>33</td>\n",
       "      <td>entrepreneur</td>\n",
       "      <td>married</td>\n",
       "      <td>secondary</td>\n",
       "      <td>no</td>\n",
       "      <td>2</td>\n",
       "      <td>yes</td>\n",
       "      <td>yes</td>\n",
       "      <td>unknown</td>\n",
       "      <td>5</td>\n",
       "      <td>may</td>\n",
       "      <td>76</td>\n",
       "      <td>1</td>\n",
       "      <td>-1</td>\n",
       "      <td>0</td>\n",
       "      <td>unknown</td>\n",
       "      <td>1</td>\n",
       "    </tr>\n",
       "    <tr>\n",
       "      <th>3</th>\n",
       "      <td>47</td>\n",
       "      <td>blue-collar</td>\n",
       "      <td>married</td>\n",
       "      <td>unknown</td>\n",
       "      <td>no</td>\n",
       "      <td>1506</td>\n",
       "      <td>yes</td>\n",
       "      <td>no</td>\n",
       "      <td>unknown</td>\n",
       "      <td>5</td>\n",
       "      <td>may</td>\n",
       "      <td>92</td>\n",
       "      <td>1</td>\n",
       "      <td>-1</td>\n",
       "      <td>0</td>\n",
       "      <td>unknown</td>\n",
       "      <td>1</td>\n",
       "    </tr>\n",
       "    <tr>\n",
       "      <th>4</th>\n",
       "      <td>33</td>\n",
       "      <td>unknown</td>\n",
       "      <td>single</td>\n",
       "      <td>unknown</td>\n",
       "      <td>no</td>\n",
       "      <td>1</td>\n",
       "      <td>no</td>\n",
       "      <td>no</td>\n",
       "      <td>unknown</td>\n",
       "      <td>5</td>\n",
       "      <td>may</td>\n",
       "      <td>198</td>\n",
       "      <td>1</td>\n",
       "      <td>-1</td>\n",
       "      <td>0</td>\n",
       "      <td>unknown</td>\n",
       "      <td>1</td>\n",
       "    </tr>\n",
       "  </tbody>\n",
       "</table>\n",
       "</div>"
      ]
     },
     "execution_count": 1,
     "metadata": {},
     "output_type": "execute_result"
    }
   ],
   "execution_count": 1
  },
  {
   "cell_type": "markdown",
   "id": "eed919b9",
   "metadata": {},
   "source": [
    "\n",
    "## Step 2: Explore the dataset\n",
    "\n",
    "- What variables do we have?\n",
    "- Which ones are numerical, which are categorical?\n",
    "- Are there missing values?\n",
    "- What does the target (`y`) look like?\n"
   ]
  },
  {
   "cell_type": "code",
   "execution_count": null,
   "id": "348c3d19",
   "metadata": {},
   "outputs": [],
   "source": []
  },
  {
   "cell_type": "markdown",
   "id": "96748986",
   "metadata": {},
   "source": [
    "\n",
    "## Step 3: A very naive baseline\n",
    "\n",
    "Before building any models, always compare against a trivial baseline.\n",
    "\n",
    "- Use the most frequent class (majority class) as the prediction for all rows.\n",
    "- Calculate accuracy and other relevant metrics.\n",
    "- This gives you a baseline to beat.\n"
   ]
  },
  {
   "cell_type": "code",
   "execution_count": null,
   "id": "35b9fc58",
   "metadata": {},
   "outputs": [],
   "source": []
  },
  {
   "cell_type": "markdown",
   "id": "33616f50",
   "metadata": {},
   "source": [
    "\n",
    "## Step 4: Data preparation\n",
    "\n",
    "- Handle categorical variables (e.g. one-hot encoding or ordinal encoding).\n",
    "- Scale or normalize numerical features if needed.\n",
    "- Split the dataset into train and test sets.\n"
   ]
  },
  {
   "cell_type": "code",
   "execution_count": null,
   "id": "fe81cf8f",
   "metadata": {},
   "outputs": [],
   "source": []
  },
  {
   "cell_type": "markdown",
   "id": "8edca5d0",
   "metadata": {},
   "source": [
    "\n",
    "## Step 5: Train simple models\n",
    "\n",
    "Start with traditional algorithms from `scikit-learn`:\n",
    "\n",
    "- Logistic Regression\n",
    "- Decision Tree\n",
    "\n",
    "Evaluate them against the baseline. Which performs better?\n"
   ]
  },
  {
   "cell_type": "code",
   "execution_count": null,
   "id": "eea812d0",
   "metadata": {},
   "outputs": [],
   "source": []
  },
  {
   "cell_type": "markdown",
   "id": "ea94afb5",
   "metadata": {},
   "source": [
    "\n",
    "## Step 6: Improve with ensembles\n",
    "\n",
    "Try tree-based ensemble models:\n",
    "\n",
    "- Random Forest\n",
    "- Gradient Boosted Trees (e.g. XGBoost, LightGBM)\n",
    "\n",
    "Do they improve performance compared to the single models?\n"
   ]
  },
  {
   "cell_type": "code",
   "execution_count": null,
   "id": "0f1e9593",
   "metadata": {},
   "outputs": [],
   "source": []
  },
  {
   "cell_type": "markdown",
   "id": "1d1ff18b",
   "metadata": {},
   "source": [
    "\n",
    "## Step 7: Model evaluation\n",
    "\n",
    "- Use metrics beyond accuracy, such as Precision, Recall, and F1-Score.\n",
    "- Which model balances performance best for this classification problem?\n",
    "- Think about how this would be used in practice (cost of false positives vs. false negatives).\n"
   ]
  },
  {
   "cell_type": "code",
   "execution_count": null,
   "id": "b379b77a",
   "metadata": {},
   "outputs": [],
   "source": []
  },
  {
   "cell_type": "markdown",
   "id": "75ed0ebf",
   "metadata": {},
   "source": [
    "\n",
    "## Step 8: Reflection\n",
    "\n",
    "- What did you learn from this dataset compared to the California housing exercise?\n",
    "- How did categorical data and the classification target change your workflow?\n",
    "- Which model would you choose if you had to deploy one today?\n"
   ]
  },
  {
   "cell_type": "markdown",
   "id": "c373c52e",
   "metadata": {},
   "source": [
    "## 9. Model explanation\n",
    "- Can you extract and plot the feature importances of one of the tree-based models?\n",
    "- Visualize predicted vs actual on a scatter plot"
   ]
  },
  {
   "cell_type": "code",
   "execution_count": null,
   "id": "6c142b63",
   "metadata": {},
   "outputs": [],
   "source": []
  },
  {
   "cell_type": "markdown",
   "id": "6ab5a5d2",
   "metadata": {},
   "source": [
    "## 10. Reflection\n",
    "\n",
    "Summarize your findings:\n",
    "\n",
    "- Which model was best?\n",
    "- Did tuning help?\n",
    "- What did you learn about the trade-offs between models?\n",
    "- Which model was easiest to use?"
   ]
  },
  {
   "cell_type": "code",
   "execution_count": null,
   "id": "3ca6d806",
   "metadata": {},
   "outputs": [],
   "source": []
  },
  {
   "cell_type": "markdown",
   "id": "a3dd4e8a",
   "metadata": {},
   "source": [
    "## 11. Extra \n",
    "- Can you enrich the data from this or previous exercise to improve your predictive power?"
   ]
  },
  {
   "cell_type": "code",
   "execution_count": null,
   "id": "c9810d25",
   "metadata": {},
   "outputs": [],
   "source": []
  }
 ],
 "metadata": {
  "kernelspec": {
   "display_name": "Python 3",
   "language": "python",
   "name": "python3"
  },
  "language_info": {
   "name": "python",
   "version": "3.12.9"
  }
 },
 "nbformat": 4,
 "nbformat_minor": 5
}
